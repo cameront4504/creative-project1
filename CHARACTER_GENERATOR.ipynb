{
  "nbformat": 4,
  "nbformat_minor": 0,
  "metadata": {
    "colab": {
      "name": "CHARACTER GENERATOR",
      "provenance": [],
      "collapsed_sections": [],
      "toc_visible": true
    },
    "kernelspec": {
      "name": "python3",
      "display_name": "Python 3"
    },
    "accelerator": "GPU"
  },
  "cells": [
    {
      "cell_type": "markdown",
      "metadata": {
        "id": "tAjAWId2tV1L"
      },
      "source": [
        "## Set Up / Imports\r\n",
        "\r\n",
        "Main items of importance here are GPT-2, markovify, and a few other python libraries for later use."
      ]
    },
    {
      "cell_type": "code",
      "metadata": {
        "id": "PIAxNenGu0VJ"
      },
      "source": [
        "%tensorflow_version 1.x\r\n",
        "!pip install -q gpt-2-simple\r\n",
        "!pip install markovify\r\n",
        "!pip install dominate"
      ],
      "execution_count": null,
      "outputs": []
    },
    {
      "cell_type": "code",
      "metadata": {
        "id": "KBkpRgBCBS2_"
      },
      "source": [
        "# GPT-2 Stuff\n",
        "\n",
        "import gpt_2_simple as gpt2\n",
        "from datetime import datetime\n",
        "from google.colab import files\n",
        "\n",
        "model_name = \"774M\"\n",
        "\n",
        "gpt2.download_gpt2(model_name=model_name)\n",
        "\n",
        "sess = gpt2.start_tf_sess()\n",
        "\n",
        "gpt2.load_gpt2(sess, model_name=model_name)\n",
        "\n",
        "# Added Stuff\n",
        "\n",
        "import random\n",
        "import markovify\n",
        "import dominate\n",
        "from dominate.tags import *"
      ],
      "execution_count": null,
      "outputs": []
    },
    {
      "cell_type": "code",
      "metadata": {
        "id": "pY3AtkXCxea4"
      },
      "source": [
        "# Class(es)\r\n",
        "# Don't necessarily need these, but here's to practice\r\n",
        "\r\n",
        "class character(object):\r\n",
        "    def __init__(self,name,age,race,title,profile,opinions):\r\n",
        "        self.name = name\r\n",
        "        self.age = age\r\n",
        "        self.race = race\r\n",
        "        self.title = title\r\n",
        "        self.profile = profile\r\n",
        "        self.opinions = opinions"
      ],
      "execution_count": null,
      "outputs": []
    },
    {
      "cell_type": "markdown",
      "metadata": {
        "id": "KzIwyBYwtm3x"
      },
      "source": [
        "## Creating Initial Character Profile\r\n",
        "\r\n",
        "Build initial cahracter profile off of some more basic generation. I.E. Random selection."
      ]
    },
    {
      "cell_type": "code",
      "metadata": {
        "id": "XYFUyaUmtcSK"
      },
      "source": [
        "# Generate name and title\r\n",
        "def generateName():\r\n",
        "    with open(\"btn_givennames.txt\",encoding=\"UTF-8\") as namebank:\r\n",
        "        text = namebank.read()\r\n",
        "\r\n",
        "        # remove /ignore gender markings\r\n",
        "        # and pick a name at random\r\n",
        "        text = text.replace(\"\tm\",\"\").replace(\"\tf\",\"\")\r\n",
        "        names = text.split()\r\n",
        "        name = random.choice(names)\r\n",
        "\r\n",
        "        return name\r\n",
        "\r\n",
        "# Generate an age from 25 - 100\r\n",
        "# because fiction is too obsessed with teenagers\r\n",
        "def generateAge():\r\n",
        "    age = random.randint(25,100)\r\n",
        "    return age\r\n",
        "\r\n",
        "# Give the character a title like The Stone-Crusher or something\r\n",
        "def generateTitle():\r\n",
        "  colors = [\"red\",\"blue\",\"green\",\"yellow\",\"pink\",\"purple\",\r\n",
        "            \"orange\",\"black\",\"white\",\"brown\",\"grey\",\"silver\",\"gold\"]\r\n",
        "  jobs = [\"necromancer\",\"paladin\",\"priest\",\"warlock\",\"ranger\",\"bard\"\r\n",
        "             \"thief\",\"scout\",\"cleric\",\"templar\",\"gunslinger\",\"alchemist\"]\r\n",
        "  things = [\"stone\",\"grass\",\"water\",\"mist\",\"music\",\"life\",\r\n",
        "            \"blood\", \"land\",\"kingdom\",\"mountain\",]\r\n",
        "  descript = [\"crusher\",\"cutter\",\"waster\",\"healer\",\"saviour\",\"fool\",\r\n",
        "              \"taker\",\"enigma\"]\r\n",
        "\r\n",
        "  color = random.choice(colors).title()\r\n",
        "  job = random.choice(jobs).title()\r\n",
        "  thing = random.choice(things).title()\r\n",
        "  doer = random.choice(descript).title()\r\n",
        "\r\n",
        "# Less chance of thing-ish title because they're less options\r\n",
        "  randint = random.randint(0,2)\r\n",
        "  if randint == 0:\r\n",
        "    title = \"the \"+color+\" \"+job+\"\"\r\n",
        "  if randint == 1:\r\n",
        "    title = \"the \"+color+\" \"+job+\"\"\r\n",
        "  elif randint == 2:\r\n",
        "    title = \"the \"+thing+\" \"+doer+\"\"\r\n",
        "  return title\r\n",
        "\r\n",
        "def generateRace():\r\n",
        "  races = [\"human\",\"elf\",\"dwarf\",\"orc\",\"goblin\",\r\n",
        "           \"beast man\", \"fae\", \"gnome\", \"lizard\",\r\n",
        "           \"daemon\", \"elemental\"]\r\n",
        "           \r\n",
        "  race = random.choice(races)\r\n",
        "  return race\r\n",
        "\r\n",
        "# Have to call this now to use with gpt-2 prefix\r\n",
        "name = generateName()\r\n",
        "age = generateAge()\r\n",
        "title = generateTitle()\r\n",
        "race = generateRace()\r\n",
        "\r\n",
        "chara = character(name,age,race,title,\"\",\"\")"
      ],
      "execution_count": null,
      "outputs": []
    },
    {
      "cell_type": "markdown",
      "metadata": {
        "id": "s6sZotmuVd5-"
      },
      "source": [
        "## Generating More of Profile\r\n",
        "\r\n",
        "Taking the information created above, use GPT-2 to generate a custom profile and short profile for the character. While I wanted to use a fine-tuned model, I ran into too many issues with RAM and having to re-boot page to use it effectively for the assignment.\r\n",
        "\r\n",
        "Wordcount is here too much of a wildcard to quantify."
      ]
    },
    {
      "cell_type": "code",
      "metadata": {
        "id": "-xInIZKaU104"
      },
      "source": [
        "# Generate About using GPT-2 and character name\n",
        "def generateProfile():\n",
        "    profile = gpt2.generate(sess,\n",
        "              model_name=model_name,\n",
        "              prefix=\"Name: \"+chara.name+\"\\nRace: \"+chara.race.title()+\n",
        "                     \"\\nClass: \"+chara.title.title()+\"\\nAge: \"+str(chara.age)+\"\\nHobbies:\",\n",
        "              length=50,\n",
        "              temperature=0.7,\n",
        "              top_p=0.9,\n",
        "              nsamples=1,\n",
        "              batch_size=1\n",
        "    )\n",
        "    return profile\n",
        "\n",
        "# Taking elements from prior cell,\n",
        "# compile profile with GPT-2 generation\n",
        "\n",
        "chara.profile = str(generateProfile())"
      ],
      "execution_count": null,
      "outputs": []
    },
    {
      "cell_type": "markdown",
      "metadata": {
        "id": "loLzfxvA7Q60"
      },
      "source": [
        "## Conducting an Interview\r\n",
        "\r\n",
        "Again, using some of the previous information, conduct an interview to try and pin down more about the character.\r\n",
        "\r\n",
        "Try to force a format by using particular prefixes. 50-80 words for each question."
      ]
    },
    {
      "cell_type": "code",
      "metadata": {
        "id": "g7CDvztfCnQp"
      },
      "source": [
        "# 5 seems to be the limit before google colab crashes from RAM usage, haha\r\n",
        "questions = [\r\n",
        "  \"Q: When asked about what kind of pets they prefer, \"+chara.name+\" said\\n\\nA:\",\r\n",
        "  \"Q: When asked what their favorite color is, \"+chara.title+\" said\\n\\nA:\",\r\n",
        "  \"Q: When asked what age they would like to live to, \"+chara.name+\", \"+str(chara.age)+\", said\\n\\nA:\",\r\n",
        "  \"Q: When asked what’s the farthest they've ever been from home, \"+chara.name+\", said\\n\\nA:\",\r\n",
        "  \"Q: When asked what they consider to be their best magical find, \"+chara.name+\" said\\n\\nA:\"\r\n",
        "]\r\n",
        "opinions = \"\"\r\n",
        "counter = 0\r\n",
        "\r\n",
        "def generateOpinion(counter):\r\n",
        "    count = counter\r\n",
        "    opinion = gpt2.generate(sess,\r\n",
        "              model_name=model_name,\r\n",
        "              prefix=questions[count],\r\n",
        "              length=100,\r\n",
        "              temperature=0.7,\r\n",
        "              top_p=0.9,\r\n",
        "              nsamples=1,\r\n",
        "              batch_size=1\r\n",
        "    )\r\n",
        "    return opinion\r\n",
        "\r\n",
        "while counter < 2:\r\n",
        "#while counter < len(questions):\r\n",
        "  opinions += str(generateOpinion(counter))\r\n",
        "  opinions += \"--\\n\\n\"\r\n",
        "  counter += 1\r\n",
        "\r\n",
        "chara.opinions = opinions"
      ],
      "execution_count": null,
      "outputs": []
    },
    {
      "cell_type": "markdown",
      "metadata": {
        "id": "AtA3yXb-Bu16"
      },
      "source": [
        "## Building a Story\r\n",
        "\r\n",
        "Now, taking the character profile, and taking several edited sources of text with specific marked variables (like [NAME]), create and mix a story using markovify.\r\n",
        "\r\n",
        "In the future I'd let the user choose genres based on number input, but for now, we're stuck with aesop's fables because they're the easiest to edit, name-wise."
      ]
    },
    {
      "cell_type": "code",
      "metadata": {
        "colab": {
          "base_uri": "https://localhost:8080/"
        },
        "id": "x54uT5gJCLNz",
        "outputId": "8b58fc5a-c884-4a6c-cfd3-2299b3c1f467"
      },
      "source": [
        "# Get texts for Markovify\r\n",
        "\r\n",
        "with open(\"aesop.txt\",encoding=\"UTF-8\") as aesop:\r\n",
        "    text = aesop.read()\r\n",
        "with open(\"tales.txt\",encoding=\"UTF-8\") as tales:\r\n",
        "    text2 = tales.read()\r\n",
        "\r\n",
        "textA = markovify.Text(text)\r\n",
        "textB = markovify.Text(text2)\r\n",
        "\r\n",
        "novel = \"\"\r\n",
        "\r\n",
        "for i in range(5):\r\n",
        "  novel += str(textA.make_sentence())\r\n",
        "  novel += \"\\n\"\r\n",
        "\r\n",
        "print(novel)"
      ],
      "execution_count": 58,
      "outputs": [
        {
          "output_type": "stream",
          "text": [
            "For a long time he jumped he missed it by a long time ago believed that he was overcome with grief and despair.\n",
            "The Man in the stars.\n",
            "None\n",
            "His eyes were fixed on the hurt and kiss it.\n",
            "When the poor Fox Without a Tail got up and made a long way.\n",
            "\n"
          ],
          "name": "stdout"
        }
      ]
    },
    {
      "cell_type": "markdown",
      "metadata": {
        "id": "jCeak-fhEtYy"
      },
      "source": [
        "## Exporting to Document\r\n",
        "\r\n",
        "Take all created outputs, etc, and combine into a document for easy saving / sharing. Ta-da! You've created a character with the help of a computer."
      ]
    },
    {
      "cell_type": "code",
      "metadata": {
        "id": "ak38dsoZE3sI"
      },
      "source": [
        "# something with dominate"
      ],
      "execution_count": null,
      "outputs": []
    },
    {
      "cell_type": "markdown",
      "metadata": {
        "id": "wmTXWNUygS5E"
      },
      "source": [
        "# SOURCES\n",
        "\n",
        "## Namebank:\n",
        "- Local: btn_givennames.txt\n",
        "- From: https://www.behindthename.com/api/\n",
        "\n",
        "## Text\n",
        "- Aesop's Fables\n",
        "  - Local: aesop.txt\n",
        "  - From: http://read.gov/aesop/001.html\n",
        "  - Note: Grabbed fables that had fewer characters, so that names/titles could be edited more easily\n",
        "-Irish Fairy Tales by James Stephens\n",
        " - Local: tales.txt\n",
        " - From: https://www.gutenberg.org/files/2892/2892-h/2892-h.htm\n",
        "\n",
        "\n",
        "# GPT-2 LICENSE\n",
        "\n",
        "MIT License\n",
        "\n",
        "Copyright (c) 2019 Max Woolf\n",
        "\n",
        "Permission is hereby granted, free of charge, to any person obtaining a copy\n",
        "of this software and associated documentation files (the \"Software\"), to deal\n",
        "in the Software without restriction, including without limitation the rights\n",
        "to use, copy, modify, merge, publish, distribute, sublicense, and/or sell\n",
        "copies of the Software, and to permit persons to whom the Software is\n",
        "furnished to do so, subject to the following conditions:\n",
        "\n",
        "The above copyright notice and this permission notice shall be included in all\n",
        "copies or substantial portions of the Software.\n",
        "\n",
        "THE SOFTWARE IS PROVIDED \"AS IS\", WITHOUT WARRANTY OF ANY KIND, EXPRESS OR\n",
        "IMPLIED, INCLUDING BUT NOT LIMITED TO THE WARRANTIES OF MERCHANTABILITY,\n",
        "FITNESS FOR A PARTICULAR PURPOSE AND NONINFRINGEMENT. IN NO EVENT SHALL THE\n",
        "AUTHORS OR COPYRIGHT HOLDERS BE LIABLE FOR ANY CLAIM, DAMAGES OR OTHER\n",
        "LIABILITY, WHETHER IN AN ACTION OF CONTRACT, TORT OR OTHERWISE, ARISING FROM,\n",
        "OUT OF OR IN CONNECTION WITH THE SOFTWARE OR THE USE OR OTHER DEALINGS IN THE\n",
        "SOFTWARE."
      ]
    },
    {
      "cell_type": "code",
      "metadata": {
        "id": "0-rVDFSACYZB"
      },
      "source": [
        ""
      ],
      "execution_count": null,
      "outputs": []
    }
  ]
}
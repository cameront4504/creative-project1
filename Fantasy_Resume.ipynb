{
  "nbformat": 4,
  "nbformat_minor": 0,
  "metadata": {
    "colab": {
      "name": "Fantasy Resume",
      "provenance": [],
      "collapsed_sections": [],
      "toc_visible": true
    },
    "kernelspec": {
      "name": "python3",
      "display_name": "Python 3"
    },
    "accelerator": "GPU"
  },
  "cells": [
    {
      "cell_type": "markdown",
      "metadata": {
        "id": "tAjAWId2tV1L"
      },
      "source": [
        "## Set Up / Imports\r\n",
        "\r\n",
        "Main items of importance here are GPT-2, markovify, and a few other python libraries for later use."
      ]
    },
    {
      "cell_type": "code",
      "metadata": {
        "id": "PIAxNenGu0VJ"
      },
      "source": [
        "%tensorflow_version 1.x\r\n",
        "!pip install -q gpt-2-simple\r\n",
        "!pip install markovify\r\n",
        "!pip install dominate"
      ],
      "execution_count": null,
      "outputs": []
    },
    {
      "cell_type": "code",
      "metadata": {
        "id": "KBkpRgBCBS2_"
      },
      "source": [
        "# GPT-2 Stuff\n",
        "\n",
        "import gpt_2_simple as gpt2\n",
        "from datetime import datetime\n",
        "from google.colab import files\n",
        "\n",
        "model_name = \"774M\"\n",
        "\n",
        "gpt2.download_gpt2(model_name=model_name)\n",
        "\n",
        "sess = gpt2.start_tf_sess()\n",
        "\n",
        "gpt2.load_gpt2(sess, model_name=model_name)\n",
        "\n",
        "# Added Stuff\n",
        "\n",
        "import random\n",
        "import markovify\n",
        "import dominate\n",
        "from dominate.tags import *"
      ],
      "execution_count": null,
      "outputs": []
    },
    {
      "cell_type": "code",
      "metadata": {
        "id": "pY3AtkXCxea4"
      },
      "source": [
        "# Class(es)\r\n",
        "# Don't necessarily need these, but here's to practice\r\n",
        "\r\n",
        "class character(object):\r\n",
        "    def __init__(self,name,age,race,title,profile,history,skills,opinions):\r\n",
        "        self.name = name\r\n",
        "        self.age = age\r\n",
        "        self.race = race\r\n",
        "        self.title = title\r\n",
        "        self.profile = profile\r\n",
        "        self.history = history\r\n",
        "        self.skills = skills\r\n",
        "        self.opinions = opinions"
      ],
      "execution_count": null,
      "outputs": []
    },
    {
      "cell_type": "markdown",
      "metadata": {
        "id": "KzIwyBYwtm3x"
      },
      "source": [
        "## Creating Initial Character Profile\r\n",
        "\r\n",
        "Build initial character profile off of some more basic generation.\r\n",
        "\r\n",
        "I.E. Random selection, but somewhat based off tracery. Might actually convert to tracery at some point."
      ]
    },
    {
      "cell_type": "code",
      "metadata": {
        "id": "XYFUyaUmtcSK"
      },
      "source": [
        "# Generate name and title\r\n",
        "def generateName():\r\n",
        "    with open(\"sources/btn_givennames.txt\",encoding=\"UTF-8\") as namebank:\r\n",
        "        text = namebank.read()\r\n",
        "\r\n",
        "        # remove /ignore gender markings\r\n",
        "        # and pick a name at random\r\n",
        "        text = text.replace(\"\tm\",\"\").replace(\"\tf\",\"\")\r\n",
        "        names = text.split()\r\n",
        "        name = random.choice(names)\r\n",
        "\r\n",
        "        return name\r\n",
        "\r\n",
        "# Generate an age from 25 - 60\r\n",
        "def generateAge():\r\n",
        "    age = random.randint(25,100)\r\n",
        "    return age\r\n",
        "\r\n",
        "# Give the character a title like The Stone-Crusher or something\r\n",
        "def generateTitle():\r\n",
        "  colors = [\"red\",\"blue\",\"green\",\"yellow\",\"pink\",\"purple\",\r\n",
        "            \"orange\",\"black\",\"white\",\"brown\",\"grey\",\"silver\",\"gold\"]\r\n",
        "  jobs = [\"necromancer\",\"paladin\",\"priest\",\"warlock\",\"ranger\",\"bard\",\"warden\",\r\n",
        "             \"thief\",\"scout\",\"cleric\",\"templar\",\"gunslinger\",\"alchemist\"]\r\n",
        "  things = [\"stone\",\"grass\",\"water\",\"mist\",\"music\",\"life\",\r\n",
        "            \"blood\", \"land\",\"kingdom\",\"mountain\",]\r\n",
        "  descript = [\"crusher\",\"cutter\",\"waster\",\"healer\",\"saviour\",\"fool\",\r\n",
        "              \"taker\",\"enigma\"]\r\n",
        "\r\n",
        "  color = random.choice(colors).title()\r\n",
        "  job = random.choice(jobs).title()\r\n",
        "  thing = random.choice(things).title()\r\n",
        "  doer = random.choice(descript).title()\r\n",
        "\r\n",
        "# Less chance of thing-ish title because they've less options\r\n",
        "  randint = random.randint(0,2)\r\n",
        "  if randint == 0:\r\n",
        "    title = \"the \"+color+\" \"+job+\"\"\r\n",
        "  if randint == 1:\r\n",
        "    title = \"the \"+color+\" \"+job+\"\"\r\n",
        "  elif randint == 2:\r\n",
        "    title = \"the \"+thing+\" \"+doer+\"\"\r\n",
        "  return title\r\n",
        "\r\n",
        "def generateRace():\r\n",
        "  races = [\"human\",\"elf\",\"dwarf\",\"orc\",\"goblin\",\r\n",
        "           \"beast man\", \"fae\", \"gnome\", \"lizard\",\r\n",
        "           \"daemon\", \"elemental\"]\r\n",
        "           \r\n",
        "  race = random.choice(races)\r\n",
        "  return race  \r\n",
        "\r\n",
        "# Have to call this now to use with gpt-2 prefix\r\n",
        "name = generateName()\r\n",
        "age = generateAge()\r\n",
        "title = generateTitle()\r\n",
        "race = generateRace()\r\n",
        "\r\n",
        "chara = character(name,age,race,title,\"\",\"\",\"\",\"\")"
      ],
      "execution_count": null,
      "outputs": []
    },
    {
      "cell_type": "markdown",
      "metadata": {
        "id": "s6sZotmuVd5-"
      },
      "source": [
        "# Defining the Character with GPT-2\r\n",
        "## Generating Profile & History\r\n",
        "\r\n",
        "Taking the information created above, use GPT-2 to generate a short profile for the character. While I wanted to use a fine-tuned model, I ran into too many issues with RAM and having to re-boot page to use it effectively for the assignment."
      ]
    },
    {
      "cell_type": "code",
      "metadata": {
        "id": "-xInIZKaU104"
      },
      "source": [
        "# Generate Profile\n",
        "def generateProfile():\n",
        "    profile = gpt2.generate(sess,\n",
        "              model_name=model_name,\n",
        "              prefix=\"Profile:\\n\\nName: \"+chara.name+\"\\nRace: \"+chara.race.title()+\n",
        "                     \"\\nClass: \"+chara.title.title()+\"\\nAge: \"+str(chara.age)+\"\\nHobbies:\",\n",
        "              length=100,\n",
        "              temperature=0.7,\n",
        "              top_p=0.9,\n",
        "              nsamples=1,\n",
        "              batch_size=1,\n",
        "              return_as_list=True\n",
        "    )\n",
        "    return profile\n",
        "\n",
        "# Taking elements from prior cell,\n",
        "# compile profile with GPT-2 generation\n",
        "\n",
        "convertProfileToString = ''.join(generateProfile())\n",
        "chara.profile = convertProfileToString\n",
        "\n",
        "f = open(\"resume_\"+chara.name+\".txt\", \"w\")\n",
        "f.write(chara.profile)\n",
        "f.close()"
      ],
      "execution_count": null,
      "outputs": []
    },
    {
      "cell_type": "code",
      "metadata": {
        "id": "JJ3DYCVxb_4D"
      },
      "source": [
        "# Generating Work History\r\n",
        "# Goal is to give each character like... 4-5 past jobs\r\n",
        "def generateHistory(count):\r\n",
        "    companies  = [\"Fantasy Costo\",\"The Bureau of Balance\",\"The Prancing Pony\",\"The Royal Court\",\r\n",
        "              \"The Silver Hand\", \"The Court of Howls\",\"Coins-A-Plenty\",\"Pinch-A-Penance\"]\r\n",
        "    positions = [\"Guest Attendant\",\"Barkeep\",\"Minstrel\",\"Stablehand\",\r\n",
        "                \"Innkeeper\",\"Beggar\",\"Servant\",\"Butcher\",\"Farmer\",\"Ranchhand\"]\r\n",
        "    months = [\"January\",\"February\",\"March\",\"April\",\"May\",\"June\",\"July\",\r\n",
        "              \"August\",\"September\",\"October\",\"November\",\"December\"]\r\n",
        "    \r\n",
        "    company = random.choice(companies)\r\n",
        "    position = random.choice(positions)\r\n",
        "\r\n",
        "    month = random.choice(months)\r\n",
        "    month2 = random.choice(months)\r\n",
        "    year = random.randint(1000,1100)\r\n",
        "    year2 = year + (random.randint(1,5))\r\n",
        "\r\n",
        "    run = count\r\n",
        "\r\n",
        "    if run == 0:\r\n",
        "      prefix = \"Employment History: \"+position+\"\\n\"+company+\"\\n\"+month+\" \"+str(year)+\" - Present\\n\\nResponsibilities:\"\r\n",
        "    else:\r\n",
        "      prefix = \"\"+position+\"\\n\"+company+\"\\n\"+month2+\" \"+str(year2)+\" - \"+month+\" \"+str(year)+\"\\n\\nResponsibilities:\"\r\n",
        "\r\n",
        "    history = gpt2.generate(sess,\r\n",
        "              model_name=model_name,\r\n",
        "              prefix=prefix,\r\n",
        "              length=50,\r\n",
        "              temperature=0.7,\r\n",
        "              top_p=0.9,\r\n",
        "              nsamples=1,\r\n",
        "              batch_size=1,\r\n",
        "              return_as_list=True\r\n",
        "    )\r\n",
        "    return history\r\n",
        "\r\n",
        "# Taking elements from prior cell,\r\n",
        "# compile profile with GPT-2 generation\r\n",
        "count = 0\r\n",
        "while count <= 5:\r\n",
        "  convertHistoryToString = ''.join(generateHistory(count))\r\n",
        "  chara.history += convertHistoryToString\r\n",
        "  chara.history += \"\\n\\n\"\r\n",
        "  count += 1\r\n",
        "\r\n",
        "f = open(\"resume_\"+chara.name+\".txt\", \"a\")\r\n",
        "f.write(\"\\n\\n\"+chara.history)\r\n",
        "f.close()"
      ],
      "execution_count": null,
      "outputs": []
    },
    {
      "cell_type": "markdown",
      "metadata": {
        "id": "loLzfxvA7Q60"
      },
      "source": [
        "## Conducting an Interview\r\n",
        "\r\n",
        "Using some of the previous information, mix Markovify and GPT-2 in order to create a pseudo character interview. Unfortunately, 5 questions seems to be the limit for GPT-2 before google colab crashes (whoops)."
      ]
    },
    {
      "cell_type": "code",
      "metadata": {
        "id": "g7CDvztfCnQp"
      },
      "source": [
        "# Set up Markovify's Model\r\n",
        "\r\n",
        "with open(\"sources/interview.txt\",encoding=\"UTF-8\") as source:\r\n",
        "    text = source.read()\r\n",
        "\r\n",
        "model = markovify.Text(text)\r\n",
        "\r\n",
        "questions = []\r\n",
        "interview = []\r\n",
        "opinions = \"\"\r\n",
        "counter = 0\r\n",
        "\r\n",
        "# Generate 5 questions from source text\r\n",
        "# Can technically change number here to make itnerview bigger or smaller\r\n",
        "for i in range(5):\r\n",
        "  questions.append(model.make_sentence())\r\n",
        "\r\n",
        "# Take questiions & add specific format to kind of push GPT-2's gen\r\n",
        "for question in questions:\r\n",
        "  question = str(\"Q: When asked '\" + question + \"' \"+chara.name+\" said\\n\\nA:\")\r\n",
        "  interview.append(question)\r\n",
        "\r\n",
        "def generateOpinion(counter):\r\n",
        "    count = counter\r\n",
        "    opinion = gpt2.generate(sess,\r\n",
        "                model_name=model_name,\r\n",
        "                prefix=interview[count],\r\n",
        "                length=100,\r\n",
        "                temperature=0.7,\r\n",
        "                top_p=0.9,\r\n",
        "                nsamples=1,\r\n",
        "                batch_size=1,\r\n",
        "                return_as_list=True\r\n",
        "    )\r\n",
        "    return opinion\r\n",
        "\r\n",
        "# Conduct interview\r\n",
        "#while counter < 3:\r\n",
        "while counter < len(interview):\r\n",
        "  opinions += ''.join(generateOpinion(counter))\r\n",
        "  opinions += \"--\\n\\n\"\r\n",
        "  counter += 1\r\n",
        "\r\n",
        "chara.opinions = opinions\r\n",
        "\r\n",
        "f = open(\"resume_\"+chara.name+\".txt\", \"a\")\r\n",
        "f.write(\"\\n\\n\"+chara.opinions)\r\n",
        "f.close()"
      ],
      "execution_count": null,
      "outputs": []
    },
    {
      "cell_type": "markdown",
      "metadata": {
        "id": "wmTXWNUygS5E"
      },
      "source": [
        "# SOURCES\n",
        "\n",
        "## Namebank:\n",
        "- Local: btn_givennames.txt\n",
        "- From: https://www.behindthename.com/api/\n",
        "\n",
        "## Question-bank:\n",
        "- Character Interview\n",
        "  - Local: interview.txt\n",
        "  - From: https://thewritingkylie.com/blog/get-to-know-your-characters-with-character-interviews-115-questions\n",
        "  - Note: Edited out a few section headers\n",
        "\n",
        "\n",
        "# GPT-2 LICENSE\n",
        "\n",
        "MIT License\n",
        "\n",
        "Copyright (c) 2019 Max Woolf\n",
        "\n",
        "Permission is hereby granted, free of charge, to any person obtaining a copy\n",
        "of this software and associated documentation files (the \"Software\"), to deal\n",
        "in the Software without restriction, including without limitation the rights\n",
        "to use, copy, modify, merge, publish, distribute, sublicense, and/or sell\n",
        "copies of the Software, and to permit persons to whom the Software is\n",
        "furnished to do so, subject to the following conditions:\n",
        "\n",
        "The above copyright notice and this permission notice shall be included in all\n",
        "copies or substantial portions of the Software.\n",
        "\n",
        "THE SOFTWARE IS PROVIDED \"AS IS\", WITHOUT WARRANTY OF ANY KIND, EXPRESS OR\n",
        "IMPLIED, INCLUDING BUT NOT LIMITED TO THE WARRANTIES OF MERCHANTABILITY,\n",
        "FITNESS FOR A PARTICULAR PURPOSE AND NONINFRINGEMENT. IN NO EVENT SHALL THE\n",
        "AUTHORS OR COPYRIGHT HOLDERS BE LIABLE FOR ANY CLAIM, DAMAGES OR OTHER\n",
        "LIABILITY, WHETHER IN AN ACTION OF CONTRACT, TORT OR OTHERWISE, ARISING FROM,\n",
        "OUT OF OR IN CONNECTION WITH THE SOFTWARE OR THE USE OR OTHER DEALINGS IN THE\n",
        "SOFTWARE."
      ]
    },
    {
      "cell_type": "code",
      "metadata": {
        "id": "0jIB0qabil0a"
      },
      "source": [
        "\"\"\"\r\n",
        "This still doesn't produce what I want, so, begone\r\n",
        "\r\n",
        "# Generate Skills\r\n",
        "def generateSkills():\r\n",
        "  skills = [\"Shearing\",\"Herding\",\"Cooking\",\"Leadership\",\"Communication\",\r\n",
        "            \"Problem-Solving\",\"Puzzle-Solving\",\"Pereverance\",\"Ability to work under pressure\",\r\n",
        "            \"Arcane Talent\", \"Storytelling\", \"Public Speaking\", \"Not Dying\"]\r\n",
        "  skill = random.choice(skills)\r\n",
        "\r\n",
        "  skill_des = gpt2.generate(sess,\r\n",
        "              model_name=model_name,\r\n",
        "              prefix=\"\"+skill.title()+\"- History of\",\r\n",
        "              length=50,\r\n",
        "              temperature=0.7,\r\n",
        "              top_p=0.9,\r\n",
        "              nsamples=1,\r\n",
        "              batch_size=1,\r\n",
        "              return_as_list=True\r\n",
        "    )\r\n",
        "  return skill_des\r\n",
        "\r\n",
        "count = 0\r\n",
        "while count <= 3:\r\n",
        "  convertSkillsToString = ''.join(generateSkills())\r\n",
        "  chara.skills += convertSkillsToString\r\n",
        "  chara.skills += \"\\n\\n\"\r\n",
        "  count += 1\r\n",
        "\r\n",
        "f = open(\"resume_\"+chara.name+\".txt\", \"a\")\r\n",
        "f.write(\"\\n\\n\"+chara.skills)\r\n",
        "f.close()\r\n",
        "\"\"\""
      ],
      "execution_count": null,
      "outputs": []
    }
  ]
}